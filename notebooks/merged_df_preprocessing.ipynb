{
 "cells": [
  {
   "cell_type": "code",
   "execution_count": 2,
   "metadata": {},
   "outputs": [],
   "source": [
    "import pandas as pd\n",
    "import seaborn as sns\n",
    "import matplotlib.pyplot as plt"
   ]
  },
  {
   "cell_type": "code",
   "execution_count": 6,
   "metadata": {},
   "outputs": [],
   "source": [
    "class MergeDataFrame:\n",
    "    def __init__(self, snoring_data, non_snoring_data):\n",
    "        self.snoring_data = snoring_data\n",
    "        self.non_snoring_data = non_snoring_data\n",
    "        \n",
    "    def merge_dataframe(self):\n",
    "        df_snoring = pd.read_csv(snoring_data)\n",
    "        df_non_snoring = pd.read_csv(non_snoring_data)\n",
    "\n",
    "        df = pd.concat([df_snoring, df_non_snoring])\n",
    "\n",
    "        # Drop columns\n",
    "        df.drop(columns=[\"File_Name\", \"Sample_Rate\", \"Audio_Data\"], inplace=True)\n",
    "\n",
    "        # Check is there is any null column\n",
    "        print(df.isnull().sum())\n",
    "\n",
    "        sns.countplot(data=df, x='Labels')\n",
    "        plt.xlabel('Labels')\n",
    "        plt.ylabel('Count')\n",
    "        plt.title('Distribution of Snoring vs. Non-Snoring Samples')\n",
    "        plt.show()\n",
    "\n",
    "        # Check for class imbalance\n",
    "        class_counts = df['Labels'].value_counts()\n",
    "        class_imbalance = class_counts[0] / class_counts[1]\n",
    "        print(f\"Class Imbalance Ratio: {class_imbalance:.2f}\")\n",
    "\n",
    "        return df\n",
    "\n",
    "        "
   ]
  },
  {
   "cell_type": "code",
   "execution_count": 7,
   "metadata": {},
   "outputs": [],
   "source": [
    "snoring_data = \"../dataset/csv/snoring_data.csv\"\n",
    "non_snoring_data = \"../dataset/csv/non_snoring_data.csv\"\n",
    "df = MergeDataFrame(snoring_data, non_snoring_data)"
   ]
  },
  {
   "cell_type": "code",
   "execution_count": 8,
   "metadata": {},
   "outputs": [
    {
     "name": "stdout",
     "output_type": "stream",
     "text": [
      "Labels      0\n",
      "Features    0\n",
      "dtype: int64\n"
     ]
    },
    {
     "data": {
      "image/png": "[encoded data removed]",
      "text/plain": [
       "<Figure size 640x480 with 1 Axes>"
      ]
     },
     "metadata": {},
     "output_type": "display_data"
    },
    {
     "name": "stdout",
     "output_type": "stream",
     "text": [
      "Class Imbalance Ratio: 1.00\n"
     ]
    },
    {
     "data": {
      "text/html": [
       "<div>\n",
       "<style scoped>\n",
       "    .dataframe tbody tr th:only-of-type {\n",
       "        vertical-align: middle;\n",
       "    }\n",
       "\n",
       "    .dataframe tbody tr th {\n",
       "        vertical-align: top;\n",
       "    }\n",
       "\n",
       "    .dataframe thead th {\n",
       "        text-align: right;\n",
       "    }\n",
       "</style>\n",
       "<table border=\"1\" class=\"dataframe\">\n",
       "  <thead>\n",
       "    <tr style=\"text-align: right;\">\n",
       "      <th></th>\n",
       "      <th>Labels</th>\n",
       "      <th>Features</th>\n",
       "    </tr>\n",
       "  </thead>\n",
       "  <tbody>\n",
       "    <tr>\n",
       "      <th>0</th>\n",
       "      <td>snoring</td>\n",
       "      <td>[-2.0517458e+02  5.7419743e+01 -1.0392883e-02 ...</td>\n",
       "    </tr>\n",
       "    <tr>\n",
       "      <th>1</th>\n",
       "      <td>snoring</td>\n",
       "      <td>[-344.21448     55.08156    -32.12919    -19.7...</td>\n",
       "    </tr>\n",
       "    <tr>\n",
       "      <th>2</th>\n",
       "      <td>snoring</td>\n",
       "      <td>[-265.7382       60.792446      6.8680086     ...</td>\n",
       "    </tr>\n",
       "    <tr>\n",
       "      <th>3</th>\n",
       "      <td>snoring</td>\n",
       "      <td>[-372.63446     103.73758     -10.555442     2...</td>\n",
       "    </tr>\n",
       "    <tr>\n",
       "      <th>4</th>\n",
       "      <td>snoring</td>\n",
       "      <td>[-257.7781      137.54213     -35.258125     2...</td>\n",
       "    </tr>\n",
       "    <tr>\n",
       "      <th>...</th>\n",
       "      <td>...</td>\n",
       "      <td>...</td>\n",
       "    </tr>\n",
       "    <tr>\n",
       "      <th>495</th>\n",
       "      <td>non-snoring</td>\n",
       "      <td>[-2.2893082e+02  6.5154510e+01  7.0928902e+01 ...</td>\n",
       "    </tr>\n",
       "    <tr>\n",
       "      <th>496</th>\n",
       "      <td>non-snoring</td>\n",
       "      <td>[-2.0869554e+02  7.1018326e+01  6.7596260e+01 ...</td>\n",
       "    </tr>\n",
       "    <tr>\n",
       "      <th>497</th>\n",
       "      <td>non-snoring</td>\n",
       "      <td>[-2.4032253e+02  7.5291588e+01  6.9927467e+01 ...</td>\n",
       "    </tr>\n",
       "    <tr>\n",
       "      <th>498</th>\n",
       "      <td>non-snoring</td>\n",
       "      <td>[-1.9481786e+02  8.2246445e+01  5.4911232e+01 ...</td>\n",
       "    </tr>\n",
       "    <tr>\n",
       "      <th>499</th>\n",
       "      <td>non-snoring</td>\n",
       "      <td>[-180.37967     100.71318      37.6062       -...</td>\n",
       "    </tr>\n",
       "  </tbody>\n",
       "</table>\n",
       "<p>1000 rows × 2 columns</p>\n",
       "</div>"
      ],
      "text/plain": [
       "          Labels                                           Features\n",
       "0        snoring  [-2.0517458e+02  5.7419743e+01 -1.0392883e-02 ...\n",
       "1        snoring  [-344.21448     55.08156    -32.12919    -19.7...\n",
       "2        snoring  [-265.7382       60.792446      6.8680086     ...\n",
       "3        snoring  [-372.63446     103.73758     -10.555442     2...\n",
       "4        snoring  [-257.7781      137.54213     -35.258125     2...\n",
       "..           ...                                                ...\n",
       "495  non-snoring  [-2.2893082e+02  6.5154510e+01  7.0928902e+01 ...\n",
       "496  non-snoring  [-2.0869554e+02  7.1018326e+01  6.7596260e+01 ...\n",
       "497  non-snoring  [-2.4032253e+02  7.5291588e+01  6.9927467e+01 ...\n",
       "498  non-snoring  [-1.9481786e+02  8.2246445e+01  5.4911232e+01 ...\n",
       "499  non-snoring  [-180.37967     100.71318      37.6062       -...\n",
       "\n",
       "[1000 rows x 2 columns]"
      ]
     },
     "execution_count": 8,
     "metadata": {},
     "output_type": "execute_result"
    }
   ],
   "source": [
    "df.merge_dataframe()"
   ]
  },
  {
   "cell_type": "code",
   "execution_count": null,
   "metadata": {},
   "outputs": [],
   "source": []
  }
 ],
 "metadata": {
  "kernelspec": {
   "display_name": "sleepiz_audio",
   "language": "python",
   "name": "sleepiz_audio"
  },
  "language_info": {
   "codemirror_mode": {
    "name": "ipython",
    "version": 3
   },
   "file_extension": ".py",
   "mimetype": "text/x-python",
   "name": "python",
   "nbconvert_exporter": "python",
   "pygments_lexer": "ipython3",
   "version": "3.11.4"
  },
  "orig_nbformat": 4
 },
 "nbformat": 4,
 "nbformat_minor": 2
}
